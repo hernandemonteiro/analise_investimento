{
  "nbformat": 4,
  "nbformat_minor": 0,
  "metadata": {
    "colab": {
      "provenance": [],
      "authorship_tag": "ABX9TyN0K7ZrmwYm9FK3K/hTy+tt"
    },
    "kernelspec": {
      "name": "python3",
      "display_name": "Python 3"
    },
    "language_info": {
      "name": "python"
    }
  },
  "cells": [
    {
      "cell_type": "markdown",
      "source": [
        "# **Análise de investimento**\n",
        "Um investimento é uma forma de colocar dinheiro ou algo de valor para receber algo maior após, entendendo isso, temos que entender que existem variáveis que podem validar ou não um investimento, nesse contexto abaixo existe alguns calculos e abordagens que podemos utilizar para separar os bons investimentos dos investimentos ruins."
      ],
      "metadata": {
        "id": "8686FkHsi_5g"
      }
    },
    {
      "cell_type": "markdown",
      "source": [
        "## **Juros**\n",
        "Vamos começar com o calculo de juros, eles que dizem quanto vamos ganhar sobre o valor investido, existem dois tipos de juros os simples e compostos, serão explicados aqui, nesse notebook trataremos de valores em reais.\n"
      ],
      "metadata": {
        "id": "y47HsrnOjoMM"
      }
    },
    {
      "cell_type": "code",
      "execution_count": 78,
      "metadata": {
        "colab": {
          "base_uri": "https://localhost:8080/"
        },
        "id": "f6XsAMzhi3fV",
        "outputId": "d2c53b06-986e-4095-cd9a-34ad21004f0f"
      },
      "outputs": [
        {
          "output_type": "stream",
          "name": "stdout",
          "text": [
            "Com R$200 por 1.5% a.m, em 24 meses você tem: 272.0\n"
          ]
        }
      ],
      "source": [
        "# Juros Simples\n",
        "# M = C + (i * n)\n",
        "# M = Montante\n",
        "# C = Capital Investido\n",
        "# i = taxa de juros\n",
        "# n = tempo (normalmente meses)\n",
        "\n",
        "# Para uma taxa de 1.5 ao mês, com um investimento de R$200, quanto vamos ter depois de 10 meses?\n",
        "C = 200\n",
        "n = 24\n",
        "i = 1.5 / 100\n",
        "\n",
        "M = C * (1 + i * n)\n",
        "\n",
        "print(f\"Com R${C} por 1.5% a.m, em {n} meses você tem: {round(M, 2)}\")"
      ]
    },
    {
      "cell_type": "code",
      "source": [
        "# Juros Compostos\n",
        "C = 200\n",
        "n = 24\n",
        "i = 1.5 / 100\n",
        "\n",
        "VF = C * (1 + i) ** n\n",
        "\n",
        "print(f\"Com R${C} por 1.5% a.m, em {n} meses você tem: {round(VF, 2)}\")"
      ],
      "metadata": {
        "colab": {
          "base_uri": "https://localhost:8080/"
        },
        "id": "EYkuJG6Am7Z8",
        "outputId": "86f9d5f6-4453-4a64-db1b-71903219267b"
      },
      "execution_count": 79,
      "outputs": [
        {
          "output_type": "stream",
          "name": "stdout",
          "text": [
            "Com R$200 por 1.5% a.m, em 24 meses você tem: 285.9\n"
          ]
        }
      ]
    },
    {
      "cell_type": "markdown",
      "source": [
        "## **Taxa de juros**\n",
        "Como visto nos calculos acima todo cálculo de matemática financeira baseia-se no desconto ou na capitalização de um valor pelo uso de uma taxa de juros (i) que deve estar referênciada com a mesma unidade de tempo (n), ou seja, caso a taxa seja ao mês, devemos calcular ela conforme os meses ou transformar a taxa para o tempo, como no exemplo de ser semanal, devendo dividir a taxa que estaria em valor mensal por 4 para obter o seu respectivo valor semanal.\n",
        "<br/>\n",
        "<br/>\n",
        "##### **Para essa conversão usamos, uma das duas operações:**\n",
        "- Proporcionalidade: conversão de taxas nominais em efetivas\n",
        "- Equivalência: conversão de taxa efetiva em outra taxa efetiva\n",
        "\n",
        "##### **Proporcionalidade**\n",
        "Uma taxa é dita nominal quando o periodo de referência de taxa não coincide com o periodo de capitalização, ou seja, a taxa pode estar especificada em ano, mas o pagamento de juros é feito mensalmente.\n",
        "Já a taxa efetiva é aquela que é utilizada efetivamente na operação, pois seu periodo é igual ao periodo de capitalização.\n",
        "\n",
        "i = Taxa\n",
        "n = tempo\n",
        "\n",
        "i₁ / i₂ = n₁ / n₂\n",
        "\n",
        "##### **Equivalência**"
      ],
      "metadata": {
        "id": "4hdwWfthCn9O"
      }
    },
    {
      "cell_type": "code",
      "source": [
        "# Proporcionalidade\n",
        "\n",
        "# Exemplo 15% a.a, mas queremos saber quanto é ao mês\n",
        "n_1 = 1 # mês\n",
        "n_2 = 12 # meses equivalente a um ano\n",
        "\n",
        "i_1 = 15\n",
        "i_2 = n_1 / n_2 * i_1\n",
        "\n",
        "print(f\"Uma taxa de {i_1}% a.a, convertida, fica: {i_2}% a.m\")"
      ],
      "metadata": {
        "colab": {
          "base_uri": "https://localhost:8080/"
        },
        "id": "mYvsooer5aHk",
        "outputId": "443bf236-2688-4121-caed-c14a14d4b920"
      },
      "execution_count": 6,
      "outputs": [
        {
          "output_type": "stream",
          "name": "stdout",
          "text": [
            "Uma taxa de 15% a.a, convertida, fica: 1.25% a.m\n"
          ]
        }
      ]
    }
  ]
}