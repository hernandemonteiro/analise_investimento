{
  "nbformat": 4,
  "nbformat_minor": 0,
  "metadata": {
    "colab": {
      "provenance": [],
      "authorship_tag": "ABX9TyO2wZGyY/J+IQ7C7n7ApmU0",
      "include_colab_link": true
    },
    "kernelspec": {
      "name": "python3",
      "display_name": "Python 3"
    },
    "language_info": {
      "name": "python"
    }
  },
  "cells": [
    {
      "cell_type": "markdown",
      "metadata": {
        "id": "view-in-github",
        "colab_type": "text"
      },
      "source": [
        "<a href=\"https://colab.research.google.com/github/hernandemonteiro/analise_investimento/blob/main/analise_invest.ipynb\" target=\"_parent\"><img src=\"https://colab.research.google.com/assets/colab-badge.svg\" alt=\"Open In Colab\"/></a>"
      ]
    },
    {
      "cell_type": "markdown",
      "source": [
        "# **Análise de investimento**\n",
        "Um investimento é uma forma de colocar dinheiro ou algo de valor para receber algo maior após, entendendo isso, temos que entender que existem variáveis que podem validar ou não um investimento, nesse contexto abaixo existe alguns calculos e abordagens que podemos utilizar para separar os bons investimentos dos investimentos ruins."
      ],
      "metadata": {
        "id": "8686FkHsi_5g"
      }
    },
    {
      "cell_type": "markdown",
      "source": [
        "## **Juros**\n",
        "Vamos começar com o calculo de juros, eles que dizem quanto vamos ganhar sobre o valor investido, existem dois tipos de juros os simples e compostos, serão explicados aqui, nesse notebook trataremos de valores em reais.\n"
      ],
      "metadata": {
        "id": "y47HsrnOjoMM"
      }
    },
    {
      "cell_type": "code",
      "execution_count": 78,
      "metadata": {
        "colab": {
          "base_uri": "https://localhost:8080/"
        },
        "id": "f6XsAMzhi3fV",
        "outputId": "d2c53b06-986e-4095-cd9a-34ad21004f0f"
      },
      "outputs": [
        {
          "output_type": "stream",
          "name": "stdout",
          "text": [
            "Com R$200 por 1.5% a.m, em 24 meses você tem: 272.0\n"
          ]
        }
      ],
      "source": [
        "# Juros Simples\n",
        "# M = C + (i * n)\n",
        "# M = Montante\n",
        "# C = Capital Investido\n",
        "# i = taxa de juros\n",
        "# n = tempo (normalmente meses)\n",
        "\n",
        "# Para uma taxa de 1.5 ao mês, com um investimento de R$200, quanto vamos ter depois de 10 meses?\n",
        "C = 200\n",
        "n = 24\n",
        "i = 1.5 / 100\n",
        "\n",
        "M = C * (1 + i * n)\n",
        "\n",
        "print(f\"Com R${C} por 1.5% a.m, em {n} meses você tem: {round(M, 2)}\")"
      ]
    },
    {
      "cell_type": "code",
      "source": [
        "# Juros Compostos\n",
        "C = 200\n",
        "n = 24\n",
        "i = 1.5 / 100\n",
        "\n",
        "VF = C * (1 + i) ** n\n",
        "\n",
        "print(f\"Com R${C} por 1.5% a.m, em {n} meses você tem: {round(VF, 2)}\")"
      ],
      "metadata": {
        "colab": {
          "base_uri": "https://localhost:8080/"
        },
        "id": "EYkuJG6Am7Z8",
        "outputId": "86f9d5f6-4453-4a64-db1b-71903219267b"
      },
      "execution_count": 79,
      "outputs": [
        {
          "output_type": "stream",
          "name": "stdout",
          "text": [
            "Com R$200 por 1.5% a.m, em 24 meses você tem: 285.9\n"
          ]
        }
      ]
    },
    {
      "cell_type": "code",
      "source": [],
      "metadata": {
        "id": "mYvsooer5aHk"
      },
      "execution_count": null,
      "outputs": []
    }
  ]
}