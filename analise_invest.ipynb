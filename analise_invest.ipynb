{
  "nbformat": 4,
  "nbformat_minor": 0,
  "metadata": {
    "colab": {
      "provenance": [],
      "authorship_tag": "ABX9TyO5GI2uCLq7ML4cycPt6J52"
    },
    "kernelspec": {
      "name": "python3",
      "display_name": "Python 3"
    },
    "language_info": {
      "name": "python"
    }
  },
  "cells": [
    {
      "cell_type": "markdown",
      "source": [
        "# **Análise de investimento**\n",
        "Um investimento é uma forma de colocar dinheiro ou algo de valor para receber algo maior após, entendendo isso, temos que entender que existem variáveis que podem validar ou não um investimento, nesse contexto abaixo existe alguns calculos e abordagens que podemos utilizar para separar os bons investimentos dos investimentos ruins."
      ],
      "metadata": {
        "id": "8686FkHsi_5g"
      }
    },
    {
      "cell_type": "markdown",
      "source": [
        "## **Juros**\n",
        "Vamos começar com o calculo de juros, eles que dizem quanto vamos ganhar sobre o valor investido, existem dois tipos de juros os simples e compostos, serão explicados aqui, nesse notebook trataremos de valores em reais.\n"
      ],
      "metadata": {
        "id": "y47HsrnOjoMM"
      }
    },
    {
      "cell_type": "code",
      "execution_count": 23,
      "metadata": {
        "colab": {
          "base_uri": "https://localhost:8080/"
        },
        "id": "f6XsAMzhi3fV",
        "outputId": "729a9224-23ed-4d9d-9c49-5edc9b97153a"
      },
      "outputs": [
        {
          "output_type": "stream",
          "name": "stdout",
          "text": [
            "Com R$200 por 1.5% a.m, em 24 meses você tem: 272.0\n"
          ]
        }
      ],
      "source": [
        "# Juros Simples\n",
        "# M = C + (i * n)\n",
        "# M = Montante\n",
        "# C = Capital Investido\n",
        "# i = taxa de juros\n",
        "# n = tempo (normalmente meses)\n",
        "\n",
        "# Para uma taxa de 1.5 ao mês, com um investimento de R$200, quanto vamos ter depois de 10 meses?\n",
        "C = 200\n",
        "n = 24\n",
        "i = 1.5 / 100\n",
        "\n",
        "M = C * (1 + i * n)\n",
        "\n",
        "print(f\"Com R${C} por 1.5% a.m, em {n} meses você tem: {round(M, 2)}\")"
      ]
    },
    {
      "cell_type": "code",
      "source": [
        "# Juros Compostos\n",
        "C = 200\n",
        "n = 24\n",
        "i = 1.5 / 100\n",
        "\n",
        "VF = C * (1 + i) ** n\n",
        "\n",
        "print(f\"Com R${C} por 1.5% a.m, em {n} meses você tem: {round(VF, 2)}\")"
      ],
      "metadata": {
        "colab": {
          "base_uri": "https://localhost:8080/"
        },
        "id": "EYkuJG6Am7Z8",
        "outputId": "3d5b47d6-e34a-41f5-95f9-1afb0021e014"
      },
      "execution_count": 24,
      "outputs": [
        {
          "output_type": "stream",
          "name": "stdout",
          "text": [
            "Com R$200 por 1.5% a.m, em 24 meses você tem: 285.9\n"
          ]
        }
      ]
    },
    {
      "cell_type": "markdown",
      "source": [
        "## **Taxa de juros**\n",
        "Como visto nos calculos acima todo cálculo de matemática financeira baseia-se no desconto ou na capitalização de um valor pelo uso de uma taxa de juros (i) que deve estar referênciada com a mesma unidade de tempo (n), ou seja, caso a taxa seja ao mês, devemos calcular ela conforme os meses ou transformar a taxa para o tempo, como no exemplo de ser semanal, devendo dividir a taxa que estaria em valor mensal por 4 para obter o seu respectivo valor semanal.\n",
        "<br/>\n",
        "<br/>\n",
        "##### **Para essa conversão usamos, uma das duas operações:**\n",
        "- Proporcionalidade: conversão de taxas nominais em efetivas\n",
        "- Equivalência: conversão de taxa efetiva em outra taxa efetiva\n",
        "\n",
        "##### **Proporcionalidade**\n",
        "Uma taxa é dita nominal quando o periodo de referência de taxa não coincide com o periodo de capitalização, ou seja, a taxa pode estar especificada em ano, mas o pagamento de juros é feito mensalmente.\n",
        "Já a taxa efetiva é aquela que é utilizada efetivamente na operação, pois seu periodo é igual ao periodo de capitalização.\n",
        "\n",
        "i = Taxa\n",
        "n = tempo\n",
        "\n",
        "i₁ / i₂ = n₁ / n₂\n",
        "\n",
        "##### **Equivalência**\n",
        "\n",
        "Equivalência é transformar taxas efetivas em outras taxas efetivas, por exemplo, temos uma taxa de 1.5 a.m, mas queremos saber quanto é essa taxa semestralmente, então usamos a equivalência, nesse caso 1.5 * 6 => 9 a.s, mas sua formula é um pouco diferente.\n",
        "\n",
        "i₂ = (1 + i₁)^(n₂/n₁) - 1\n",
        "\n",
        "onde:\n",
        "i₂ - é a taxa que queremos\n",
        "i₁ - é a taxa que temos\n",
        "\n",
        "<!-- Esses dados devem estar de acordo em periodo -->\n",
        "n₂ - prazo que queremos\n",
        "n₁ - prazo que temos"
      ],
      "metadata": {
        "id": "4hdwWfthCn9O"
      }
    },
    {
      "cell_type": "code",
      "source": [
        "# Proporcionalidade\n",
        "\n",
        "# Exemplo: 15% a.a, mas queremos saber quanto é ao mês\n",
        "n_1 = 1 # mês\n",
        "n_2 = 12 # meses equivalente a um ano\n",
        "\n",
        "i_1 = 15\n",
        "# calculando i_2 com i_1\n",
        "i_2 = n_1 / n_2 * i_1\n",
        "\n",
        "# calculando i_1 com i_2\n",
        "i_1 = n_1 * n_2 * i_2\n",
        "\n",
        "print(f\"Uma taxa de {i_1}% a.a, convertida, fica: {i_2}% a.m\")"
      ],
      "metadata": {
        "colab": {
          "base_uri": "https://localhost:8080/"
        },
        "id": "mYvsooer5aHk",
        "outputId": "30462359-2f9a-4e3d-ebb1-1d9740145923"
      },
      "execution_count": 25,
      "outputs": [
        {
          "output_type": "stream",
          "name": "stdout",
          "text": [
            "Uma taxa de 15.0% a.a, convertida, fica: 1.25% a.m\n"
          ]
        }
      ]
    },
    {
      "cell_type": "code",
      "source": [
        "# Equivalência\n",
        "\n",
        "# Exemplo: temos uma taxa de 1.25 a.m, queremos saber quanto é essa taxa semestral\n",
        "i_1 =  1.25 / 100\n",
        "\n",
        "#  em meses\n",
        "n_2 = 6\n",
        "n_1 = 1\n",
        "\n",
        "n = n_2 / n_1\n",
        "\n",
        "i_2 = ((1 + i_1)**n) - 1\n",
        "\n",
        "print(f\"Taxa convertida de 1.25% a.m para {round(i_2 * 100, 4)}% a.s\")\n",
        "\n",
        "# Tirando a prova que funciona, vamos investir 2500000 por 60 meses\n",
        "C = 2500000\n",
        "VF = C * (1 + i_1) ** 60 # meses\n",
        "\n",
        "print(f\"\\nProva 1 => Capitalização Mensal: {round(VF, 2)}\")\n",
        "\n",
        "C = 2500000\n",
        "VF = C * (1 + i_2) ** 10 # semestres\n",
        "\n",
        "print(f\"Prova 2 => Capitalização Semestral: {round(VF, 2)}\")\n",
        "\n",
        "# Exemplo: temos 24% a.a e queremos a taxa efetiva bimestral\n",
        "i_1 = 24 / 100\n",
        "\n",
        "n_2 = 2\n",
        "n_1 = 12\n",
        "\n",
        "n = n_2 / n_1\n",
        "\n",
        "i_2 = ((1 + i_1)** n) - 1\n",
        "print(f\"\\nTaxa convertida de 24% a.a para {round(i_2 * 100, 4)}% a.b\")"
      ],
      "metadata": {
        "colab": {
          "base_uri": "https://localhost:8080/"
        },
        "id": "PfKRFovzQlKR",
        "outputId": "719da357-3e6f-427c-a2e7-d42cf44bebf4"
      },
      "execution_count": 30,
      "outputs": [
        {
          "output_type": "stream",
          "name": "stdout",
          "text": [
            "Taxa convertida de 1.25% a.m para 7.7383% a.s\n",
            "\n",
            "Prova 1 => Capitalização Mensal: 5267953.37\n",
            "Prova 2 => Capitalização Semestral: 5267953.37\n",
            "\n",
            "Taxa convertida de 24% a.a para 3.6502% a.b\n"
          ]
        }
      ]
    },
    {
      "cell_type": "code",
      "source": [
        "#  só mais um exemplo para gravar\n",
        "# banco A oferece uma taxa de 1.2% a.m, o banco B disse que\n",
        "# cobre, mas paga bimestralmente, qual a taxa minima de juros\n",
        "# bimestral que o investidor pode esperar do banco B?\n",
        "i_1 = 1.2 / 100\n",
        "n = 2 / 1\n",
        "\n",
        "i_2 = ((1 + i_1)** n) - 1\n",
        "\n",
        "print(f\"O banco B precisa oferecer algo maior que: {round(i_2 * 100, 2)}% a.b - para ser mais rentável.\")"
      ],
      "metadata": {
        "colab": {
          "base_uri": "https://localhost:8080/"
        },
        "id": "S_Cfj0JR9Hva",
        "outputId": "8a36d0e7-f990-4368-bc1c-003142358698"
      },
      "execution_count": 40,
      "outputs": [
        {
          "output_type": "stream",
          "name": "stdout",
          "text": [
            "O banco B precisa oferecer algo maior que: 2.41% a.b - para ser mais rentável.\n"
          ]
        }
      ]
    }
  ]
}